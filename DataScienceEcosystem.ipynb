{
 "cells": [
  {
   "cell_type": "markdown",
   "id": "c929193d-633d-46f9-99c7-855bb3e97092",
   "metadata": {},
   "source": [
    "# Data Science Tools and Ecosystem"
   ]
  },
  {
   "cell_type": "markdown",
   "id": "e21b9c79-bae2-407f-ad28-272309e65091",
   "metadata": {
    "jp-MarkdownHeadingCollapsed": true
   },
   "source": [
    "__Objectives:__ \n",
    "- List popular languages for Data Science\n",
    "- Understand basic Python syntax\n",
    "- Work with Jupyter Notebooks\n",
    "- Practice writing Markdown cells"
   ]
  },
  {
   "cell_type": "markdown",
   "id": "4726b68c-7ebc-42ff-b2c8-92a68b42d526",
   "metadata": {},
   "source": [
    " In this notebook, Data Science Tools and Ecosystem are summarized."
   ]
  },
  {
   "cell_type": "markdown",
   "id": "bfc75c57-3bc0-4c64-a8c3-83dafb514a5f",
   "metadata": {},
   "source": [
    " Some of the popular languages that Data Scientists use are:\n",
    "\n",
    "1. Python\n",
    "1. Java\n",
    "1. C++\n",
    "1. R\n"
   ]
  },
  {
   "cell_type": "markdown",
   "id": "0e291ed7-c2f9-476a-95a2-6dfa5d7882b5",
   "metadata": {},
   "source": [
    " Some of the commonly used libraries used by Data Scientists include:\n",
    "1. Pandas\n",
    "1. NumPy\n",
    "1. Matplotlib\n"
   ]
  },
  {
   "cell_type": "markdown",
   "id": "6fede099-3d07-41ca-88a6-c9bf09750f57",
   "metadata": {},
   "source": [
    "|Data Science Tools|\n",
    "|-|\n",
    "|Jupyter Notebook|\n",
    "|Anaconda|\n",
    "|Apache Airflow|"
   ]
  },
  {
   "cell_type": "markdown",
   "id": "8903d9c2-21b0-4603-b4c5-bf53360c74a5",
   "metadata": {},
   "source": [
    "### Below are a few examples of evaluating arithmetic expressions in Python"
   ]
  },
  {
   "cell_type": "code",
   "execution_count": 30,
   "id": "252300fc-ffb0-4a01-acc8-b1c1c5c5b642",
   "metadata": {},
   "outputs": [
    {
     "data": {
      "text/plain": [
       "8"
      ]
     },
     "execution_count": 30,
     "metadata": {},
     "output_type": "execute_result"
    }
   ],
   "source": [
    "a = 1\n",
    "b = a+2\n",
    "(a+b)+(a+b)"
   ]
  },
  {
   "cell_type": "markdown",
   "id": "dd611346-7f95-4a3c-b2ee-8605604fcd23",
   "metadata": {},
   "source": [
    "This a simple arithmetic expression to mutiply then add integers"
   ]
  },
  {
   "cell_type": "code",
   "execution_count": 32,
   "id": "30c72715-066a-4107-b13e-4c1d279477b5",
   "metadata": {},
   "outputs": [
    {
     "data": {
      "text/plain": [
       "17"
      ]
     },
     "execution_count": 32,
     "metadata": {},
     "output_type": "execute_result"
    }
   ],
   "source": [
    "(3*4)+5"
   ]
  },
  {
   "cell_type": "markdown",
   "id": "efacc8e9-a27e-4c1c-b695-d268c79761eb",
   "metadata": {},
   "source": [
    "This will convert 200 minutes to hours by diving by 60"
   ]
  },
  {
   "cell_type": "code",
   "execution_count": 44,
   "id": "641fcf3a-7a57-452a-a5cb-a0afeb87f423",
   "metadata": {},
   "outputs": [
    {
     "data": {
      "text/plain": [
       "3.3333333333333335"
      ]
     },
     "execution_count": 44,
     "metadata": {},
     "output_type": "execute_result"
    }
   ],
   "source": [
    "# Change \"a\" to input your minutes\n",
    "a = 200\n",
    "a/60"
   ]
  },
  {
   "cell_type": "markdown",
   "id": "15adda4b-8214-432d-b011-7ef463a7ca91",
   "metadata": {},
   "source": [
    "## Author\n",
    "Dmytro Panasiuk"
   ]
  }
 ],
 "metadata": {
  "kernelspec": {
   "display_name": "Python 3 (ipykernel)",
   "language": "python",
   "name": "python3"
  },
  "language_info": {
   "codemirror_mode": {
    "name": "ipython",
    "version": 3
   },
   "file_extension": ".py",
   "mimetype": "text/x-python",
   "name": "python",
   "nbconvert_exporter": "python",
   "pygments_lexer": "ipython3",
   "version": "3.12.4"
  }
 },
 "nbformat": 4,
 "nbformat_minor": 5
}
